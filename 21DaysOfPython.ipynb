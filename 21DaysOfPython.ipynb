{
  "cells": [
    {
      "cell_type": "markdown",
      "metadata": {
        "id": "view-in-github",
        "colab_type": "text"
      },
      "source": [
        "<a href=\"https://colab.research.google.com/github/FranGarcia369/ProyectoNodd3r/blob/main/21DaysOfPython.ipynb\" target=\"_parent\"><img src=\"https://colab.research.google.com/assets/colab-badge.svg\" alt=\"Open In Colab\"/></a>"
      ]
    },
    {
      "cell_type": "markdown",
      "metadata": {
        "id": "o5fJlB98WLTW"
      },
      "source": [
        "# **Reto 21 días para principiantes**\n"
      ]
    },
    {
      "cell_type": "markdown",
      "metadata": {
        "id": "QOXPPHZwWQQK"
      },
      "source": [
        "Python, un lenguaje de programación versátil y ampliamente utilizado, se ha convertido en una herramienta esencial en el kit de cualquier desarrollador de software. Su sintaxis simple y legible, combinada con una amplia gama de bibliotecas y frameworks, lo convierte en una elección ideal tanto para principiantes como para programadores experimentados."
      ]
    },
    {
      "cell_type": "markdown",
      "metadata": {
        "id": "Nl9zItRoHD8R"
      },
      "source": [
        "## **Antes de empezar**"
      ]
    },
    {
      "cell_type": "markdown",
      "metadata": {
        "id": "fjYujTlJHI94"
      },
      "source": [
        "Aprende cómo usar esta herramienta de trabajo, Google Colab.\n",
        "\n",
        "Ver lecciones aquí:\n",
        "\n",
        "https://nodd3r.com/masters/master-data-science/courses/programacion-python/theory/como-usar-google-colab"
      ]
    },
    {
      "cell_type": "markdown",
      "metadata": {
        "id": "METGVZTKu-Pu"
      },
      "source": [
        "## **Día 0. Ver sesión 1 Minibootcamp Python**\n",
        "\n",
        "En este enlace, podrás ver la sesión 1 del minibootcamp de Python.\n",
        "\n",
        "Esta sesión te ayudará a entender los conceptos básicos de Python y a ver ejercicios resueltos.\n",
        "\n",
        "\n",
        "[Sesión 1 minibootcamp Python](https://nodd3r.com/masters/masterclass/courses/minibootcamp-python/theory/sesion-1-teoria-practica-intro-python)"
      ]
    },
    {
      "cell_type": "markdown",
      "metadata": {
        "id": "2qXx015VTbkF"
      },
      "source": [
        "\n",
        "# **Día 1.Imprimir por pantalla (Nivel 0)**\n",
        "Imprime por pantalla tu primer ‘Hola mundo’ <br>\n",
        "¡Sigue practicando con el print, prueba tu nombre, ciudad y otros datos que quieras!\n",
        "\n",
        "Link a teoría:\n",
        "https://nodd3r.com/masters/master-data-science/courses/programacion-python/theory/parte-1-de-sintaxis-basica\n"
      ]
    },
    {
      "cell_type": "markdown",
      "metadata": {
        "id": "w8tsNU1a5jL5"
      },
      "source": [
        "**Ejercicio**:\n",
        "Printa los siguientes casos"
      ]
    },
    {
      "cell_type": "code",
      "execution_count": null,
      "metadata": {
        "colab": {
          "base_uri": "https://localhost:8080/"
        },
        "id": "GBlZGNVDTa31",
        "outputId": "6dbba233-42d7-428e-93cd-d0d915d8272b"
      },
      "outputs": [
        {
          "name": "stdout",
          "output_type": "stream",
          "text": [
            "Hola Mundo\n"
          ]
        }
      ],
      "source": [
        "# Crea el codigo del tu primer hola mundo\n",
        "# Imprimimos por pantalla la cadena \"hola mundo\"\n",
        "print(\"hola Mundo\")"
      ]
    },
    {
      "cell_type": "code",
      "execution_count": null,
      "metadata": {
        "colab": {
          "base_uri": "https://localhost:8080/"
        },
        "id": "5EWpMzsJTxSF",
        "outputId": "37829397-96f4-40b1-85fa-dce963a65c46"
      },
      "outputs": [
        {
          "output_type": "stream",
          "name": "stdout",
          "text": [
            "Holaa\n",
            "Mi nombre es Francisco, soy estudiante de Nodd3r y vivo en Campillo de Arenas, provincia de Jaén.\n",
            "Adiós\n"
          ]
        }
      ],
      "source": [
        "#Imprime por pantalla datos para presentarte\n",
        "# Creamos variables y les asignamos un valor\n",
        "nombre = 'Francisco'\n",
        "empresa = 'Nodd3r'\n",
        "pueblo ='Campillo de Arenas'\n",
        "provincia ='Jaén'\n",
        "# Imprimimos las variables por pantalla\n",
        "print('Holaa')\n",
        "print(f'Mi nombre es {nombre}, soy estudiante de {empresa} y vivo en {pueblo}, provincia de {provincia}.')\n",
        "print('Adiós')\n",
        "\n",
        "\n"
      ]
    },
    {
      "cell_type": "code",
      "execution_count": null,
      "metadata": {
        "colab": {
          "base_uri": "https://localhost:8080/"
        },
        "id": "y_lXRYRszqNV",
        "outputId": "622b5ccc-18f4-4ea7-da8b-336317cf6b08"
      },
      "outputs": [
        {
          "output_type": "stream",
          "name": "stdout",
          "text": [
            "Tengo 49 años\n"
          ]
        }
      ],
      "source": [
        "#Imprime por pantalla tu edad\n",
        "# Asignamos un valor a la variable edad\n",
        "edad = 49\n",
        "# Imprimimos por pantalla el valor de la variable\n",
        "print('Tengo {} años'.format(edad))\n",
        "\n"
      ]
    },
    {
      "cell_type": "markdown",
      "metadata": {
        "id": "EaXokQzZqYzd"
      },
      "source": [
        "**Soluciones ejericicios día 1**\n",
        "\n",
        "Darle a \"Mostrar Código\""
      ]
    },
    {
      "cell_type": "code",
      "execution_count": null,
      "metadata": {
        "id": "gN_zLdyyprqJ",
        "cellView": "form",
        "collapsed": true
      },
      "outputs": [],
      "source": [
        "# @title Ver soluciones Día 1\n",
        "\n",
        "#1. Crea el codigo del tu primer hola mundo\n",
        "print('Hola Mundo')\n",
        "\n",
        "# -------------------------------------\n",
        "\n",
        "#2. Imprime por pantalla datos para presentarte\n",
        "#Creamos variables y les asignamos\n",
        "nombre = 'Christian'\n",
        "empresa = 'Nodd3r'\n",
        "ciudad = 'Madrid'\n",
        "\n",
        "print('Hola soy: ' + nombre + ' trabajo en ' + empresa + ' en la ciudad de ' + ciudad)\n",
        "\n",
        "# -------------------------------------\n",
        "\n",
        "#3. Imprime por pantalla un numero\n",
        "numero_float =2\n",
        "print(type(numero_float))\n",
        "\n",
        "\n",
        "\n"
      ]
    },
    {
      "cell_type": "markdown",
      "metadata": {
        "id": "h_SBIKIQWXVb"
      },
      "source": [
        "# **Día 2.Variables y Tipos de Datos Básicos (Nivel 0)**"
      ]
    },
    {
      "cell_type": "markdown",
      "metadata": {
        "id": "S9z-BCohWgpW"
      },
      "source": [
        "\n",
        "\n",
        "Aprende sobre variables y tipos de datos en Python (enteros, flotantes, cadenas).\n",
        "\n",
        "Link a teoría:https://nodd3r.com/masters/master-data-science/courses/programacion-python/theory/parte-2-de-sintaxis-basica"
      ]
    },
    {
      "cell_type": "markdown",
      "metadata": {
        "id": "PtUgNf4A5qqQ"
      },
      "source": [
        "**Ejercicio:**\n",
        "\n",
        "Escribe un programa que tome dos números como entrada y muestre su suma."
      ]
    },
    {
      "cell_type": "code",
      "execution_count": null,
      "metadata": {
        "colab": {
          "base_uri": "https://localhost:8080/"
        },
        "id": "mv0LMwdVWqkv",
        "outputId": "1bdf491d-c505-4bc2-9ec8-95baedb7947b"
      },
      "outputs": [
        {
          "output_type": "stream",
          "name": "stdout",
          "text": [
            "Introduzca el primer número :9\n",
            "Introduzca el segundo número :1.5\n",
            "La suma de los dos números es 10.5\n"
          ]
        }
      ],
      "source": [
        "# Escribe aquí tu código\n",
        "# Asignamos valor a las dos variables pidiendo por pantalla su valor\n",
        "numero_1=input('Introduzca el primer número :')\n",
        "numero_2=input('Introduzca el segundo número :')\n",
        "# sumamos las variables\n",
        "suma=float(numero_1)+float(numero_2)\n",
        "# imprimimos por pantalla el resultado obtenido\n",
        "print(f'La suma de los dos números es {suma}'.format(suma))\n",
        "\n"
      ]
    },
    {
      "cell_type": "markdown",
      "metadata": {
        "id": "X0foaQvpl53W"
      },
      "source": [
        "El ***input*** en Python es una función que se utiliza para recibir información o datos ingresados por el usuario a través del teclado. Funciona de la siguiente manera:\n",
        "\n",
        "Muestra un mensaje opcional al usuario, solicitando la entrada de datos.<br>\n",
        "El usuario escribe la información deseada en la consola y presiona \"Enter\".\n",
        "input toma lo que el usuario escribió y lo almacena en una variable en forma de texto (cadena de caracteres). <br>\n",
        "Por ejemplo, si tienes el siguiente código:"
      ]
    },
    {
      "cell_type": "code",
      "execution_count": null,
      "metadata": {
        "colab": {
          "base_uri": "https://localhost:8080/"
        },
        "id": "K88Jhs-lm24g",
        "outputId": "3a4ff30a-f9e3-46ab-fd1e-00a8ab79ebe0"
      },
      "outputs": [
        {
          "output_type": "stream",
          "name": "stdout",
          "text": [
            "Por favor, ingresa tu edad: 49\n",
            "La edad es: 49\n"
          ]
        }
      ],
      "source": [
        "edad = input(\"Por favor, ingresa tu edad: \")\n",
        "print('La edad es: '+edad)"
      ]
    },
    {
      "cell_type": "code",
      "execution_count": null,
      "metadata": {
        "id": "xOa26Oc3qWju",
        "cellView": "form"
      },
      "outputs": [],
      "source": [
        "# @title Soluciones día 2\n",
        "\n",
        "#4. Escribe un programa que tome dos números como entrada y muestre su suma.\n",
        "num1 = 5\n",
        "num2 = 3\n",
        "suma = num1 + num2\n",
        "print(\"La suma es:\", suma)\n",
        "\n",
        "edad = input(\"Por favor, ingresa tu edad: \")\n",
        "print('La edad es:')"
      ]
    },
    {
      "cell_type": "markdown",
      "metadata": {
        "id": "a94bvMxfxw8b"
      },
      "source": [
        "# **Día 3. Variables y tipos de datos (nivel 0)**"
      ]
    },
    {
      "cell_type": "markdown",
      "metadata": {
        "id": "A-BN4jYt52nI"
      },
      "source": [
        "**Ejercicio:**\n",
        "\n",
        "Crea un programa en el que se tenga una variable llamada nombre y luego le dé la bienvenida utilizando su nombre. Por ejemplo, \"Hola, [nombre]\"."
      ]
    },
    {
      "cell_type": "code",
      "execution_count": null,
      "metadata": {
        "colab": {
          "base_uri": "https://localhost:8080/"
        },
        "id": "qJnLOIg5Wsvy",
        "outputId": "fee331de-7562-4643-d961-9a8e83316c0e"
      },
      "outputs": [
        {
          "output_type": "stream",
          "name": "stdout",
          "text": [
            "Introduzca su nombre :Antonio\n",
            "Hola, Antonio.\n"
          ]
        }
      ],
      "source": [
        "# Escribe aquí tu código\n",
        "# asignamos a una variable el valor pidiendolo por pantalla\n",
        "nombre=input ('Introduzca su nombre :')\n",
        "# imprimimos por pantalla el saludo incluyendo el valor de la variable asignada\n",
        "print ('Hola, '+nombre+'.')"
      ]
    },
    {
      "cell_type": "markdown",
      "metadata": {
        "id": "Q8wdJP9hqzir"
      },
      "source": [
        "**Ver solucion Día 3**"
      ]
    },
    {
      "cell_type": "code",
      "execution_count": null,
      "metadata": {
        "cellView": "form",
        "id": "lK_zF9s5q2Av"
      },
      "outputs": [],
      "source": [
        "# @title Solución Día 3\n",
        "\n",
        "#5. Crea un programa en el que se tenga una variable llamada nombre y luego le dé la bienvenida utilizando su nombre. Por ejemplo, \"Hola, [nombre]\".\n",
        "# Solicitar al usuario que ingrese su nombre\n",
        "nombre = input(\"Ingresa tu nombre: \")\n",
        "\n",
        "# Mostrar el saludo utilizando el nombre\n",
        "print(f\"Hola, {nombre}!\")"
      ]
    },
    {
      "cell_type": "markdown",
      "metadata": {
        "id": "cCysXp4TXv5M"
      },
      "source": [
        "# **Día 4. Operadores (Nivel 1)**"
      ]
    },
    {
      "cell_type": "markdown",
      "metadata": {
        "id": "UPsxorH2X7VB"
      },
      "source": [
        "Explora operadores aritméticos, de comparación y lógicos.\n",
        "\n",
        "Link a teoría:\n",
        "https://nodd3r.com/masters/master-data-science/courses/programacion-python/theory/operaciones-en-python\n",
        "\n",
        "\n",
        "\n"
      ]
    },
    {
      "cell_type": "markdown",
      "metadata": {
        "id": "b4sGp7mz525I"
      },
      "source": [
        "**Ejercicio:**\n",
        "\n",
        "Crea un programa que calcule el área de un triángulo dado su base y altura."
      ]
    },
    {
      "cell_type": "code",
      "execution_count": null,
      "metadata": {
        "id": "CEfxkxHgX6ep",
        "colab": {
          "base_uri": "https://localhost:8080/"
        },
        "outputId": "7cd3bc82-1bb9-4e1e-97a2-638ee1a9cf85"
      },
      "outputs": [
        {
          "output_type": "stream",
          "name": "stdout",
          "text": [
            "Introduzca la base del triángulo :9\n",
            "Introduzca la altura del triángulo :3\n",
            "El area del triángulo es: 13.5\n"
          ]
        }
      ],
      "source": [
        "# Escribe aquí tu código\n",
        "# asignamos a las variables base y altura el valor\n",
        "# pidiendo al usuario que lo ingrese por pantalla\n",
        "base=float(input('Introduzca la base del triángulo :') )\n",
        "altura=float(input('Introduzca la altura del triángulo :'))\n",
        "# calculamos el area del triangulo\n",
        "area=(base*altura)/2\n",
        "# imprimimos el resultado por pantalla\n",
        "print('El area del triángulo es: {}'.format(area))"
      ]
    },
    {
      "cell_type": "code",
      "execution_count": null,
      "metadata": {
        "id": "ia6lXdt9rt78",
        "cellView": "form"
      },
      "outputs": [],
      "source": [
        "# @title Solución Día 4\n",
        "\n",
        "#6. Crea un programa que calcule el área de un triángulo dado su base y altura.\n",
        "base = 4\n",
        "altura = 5\n",
        "area = (base * altura) / 2\n",
        "print(\"El área del triángulo es:\", area)"
      ]
    },
    {
      "cell_type": "markdown",
      "metadata": {
        "id": "5ne0aMtHyA_R"
      },
      "source": [
        "# **Día 5. Operadores (Nivel 1)**\n"
      ]
    },
    {
      "cell_type": "markdown",
      "metadata": {
        "id": "Dgy4rvGk5Ykt"
      },
      "source": [
        "**Ejercicio:**\n",
        "\n",
        "Crea un programa que calcule el promedio de tres números ingresados por el usuario y lo muestre en pantalla."
      ]
    },
    {
      "cell_type": "code",
      "execution_count": null,
      "metadata": {
        "id": "f29333TCYG17",
        "colab": {
          "base_uri": "https://localhost:8080/"
        },
        "outputId": "ff667ca8-05cd-442b-fe55-e4aa3cb6aece"
      },
      "outputs": [
        {
          "output_type": "stream",
          "name": "stdout",
          "text": [
            "Ingresa el primer valor: 5\n",
            "Ingresa el segundo valor: 6\n",
            "Ingresa el tercer valor:7\n",
            "El promedio de 5.0, 6.0 y 7.0 es: 6.0\n"
          ]
        }
      ],
      "source": [
        "# Escribe aquí tu código\n",
        "# solicitamos los tres valores por pantalla al usuario\n",
        "a = float(input('Ingresa el primer valor: '))\n",
        "b = float(input('Ingresa el segundo valor: '))\n",
        "c = float(input('Ingresa el tercer valor:' ))\n",
        "# calcular el promedio\n",
        "promedio=(a+b+c)/3\n",
        "# imprimimos por pantalla el resultado\n",
        "print(f'El promedio de {a}, {b} y {c} es: {promedio}')"
      ]
    },
    {
      "cell_type": "code",
      "execution_count": null,
      "metadata": {
        "id": "d6cl1hKZrzpD",
        "cellView": "form"
      },
      "outputs": [],
      "source": [
        "# @title Solución Día 5\n",
        "\n",
        "#7. Crea un programa que calcule el promedio de tres números ingresados por el usuario y lo muestre en pantalla\n",
        "# Solicitar al usuario que ingrese los tres números\n",
        "num1 = float(input(\"Ingresa el primer número: \"))\n",
        "num2 = float(input(\"Ingresa el segundo número: \"))\n",
        "num3 = float(input(\"Ingresa el tercer número: \"))\n",
        "\n",
        "# Calcular el promedio\n",
        "promedio = (num1 + num2 + num3) / 3\n",
        "\n",
        "# Mostrar el resultado\n",
        "print(f\"El promedio de {num1}, {num2} y {num3} es igual a: {promedio}\")"
      ]
    },
    {
      "cell_type": "markdown",
      "metadata": {
        "id": "XKDM3MHYYOpL"
      },
      "source": [
        "# **Día 6.Strings y Operaciones con Strings (Nivel 1)**"
      ]
    },
    {
      "cell_type": "markdown",
      "metadata": {
        "id": "JVzemDWtYUkE"
      },
      "source": [
        "Aprende a trabajar con cadenas de texto en Python.\n",
        "\n",
        "\n",
        "\n"
      ]
    },
    {
      "cell_type": "markdown",
      "metadata": {
        "id": "eZMVL70j5TXE"
      },
      "source": [
        "**Ejercicio:**\n",
        "\n",
        "Escribe un programa que cuente cuántas veces aparece una letra específica en una cadena."
      ]
    },
    {
      "cell_type": "code",
      "execution_count": null,
      "metadata": {
        "colab": {
          "base_uri": "https://localhost:8080/"
        },
        "id": "fKZWrDyVYRyJ",
        "outputId": "14fbbdc1-80d7-4e79-dbd8-7b8a676aafd7"
      },
      "outputs": [
        {
          "output_type": "stream",
          "name": "stdout",
          "text": [
            "Ingresa uma cadena :Esto es un texto de prueba para saber cuantas veces aparece la letra e en este texto\n",
            "Ingresa una letra: e\n",
            "La letra 'e' aparece 15 veces en la cadena\n"
          ]
        }
      ],
      "source": [
        "# Escribe aquí tu código\n",
        "# pedimos al usuario por pantalla que introduzca la cadena\n",
        "cadena = input ('Ingresa uma cadena :')\n",
        "# pedimos al usuario por pantalla que introduzca la letra\n",
        "letra = input ('Ingresa una letra: ')\n",
        "# contamos cuantas veces aparece la letra en la cadena\n",
        "contador = cadena.count(letra)\n",
        "# imprimimos el resultado por pantalla\n",
        "print(\"La letra '{}' aparece {} veces en la cadena\".format(letra, contador))"
      ]
    },
    {
      "cell_type": "code",
      "execution_count": null,
      "metadata": {
        "id": "jgqZ82lxr7GJ",
        "cellView": "form"
      },
      "outputs": [],
      "source": [
        "# @title Solución Día 6\n",
        "\n",
        "#8. Escribe un programa que cuente cuántas veces aparece una letra específica en una cadena.\n",
        "cadena = \"¡Hola, mundo!\"\n",
        "letra = \"o\"\n",
        "conteo = cadena.count(letra)\n",
        "print(\"La letra '{}' aparece {} veces.\".format(letra, conteo))"
      ]
    },
    {
      "cell_type": "markdown",
      "metadata": {
        "id": "ctYW-C2oyO4n"
      },
      "source": [
        "# **Día 7.Strings y operaciones (Nivel 1)**"
      ]
    },
    {
      "cell_type": "markdown",
      "metadata": {
        "id": "nfhnsVXmPXtG"
      },
      "source": [
        "En el siguiente ejercicio debes usar el método len() para la longuitud de la cadena"
      ]
    },
    {
      "cell_type": "markdown",
      "metadata": {
        "id": "Tzce6HA15L7S"
      },
      "source": [
        "**Ejercicio:**\n",
        "\n",
        "Determinar la longitud de un string"
      ]
    },
    {
      "cell_type": "code",
      "execution_count": null,
      "metadata": {
        "colab": {
          "base_uri": "https://localhost:8080/"
        },
        "id": "m2xySen8EG8G",
        "outputId": "464afc9f-c1e6-4d51-8e98-73f55f828852"
      },
      "outputs": [
        {
          "output_type": "stream",
          "name": "stdout",
          "text": [
            "Ingresa una palabra :Juan Antonio\n",
            "La longitud de la palabra 'Juan Antonio' es 12 \n"
          ]
        }
      ],
      "source": [
        "# Escribe aquí tu código\n",
        "# pedimos al usuario por pantalla que introduzca la cadena\n",
        "cadena = input ('Ingresa una cadena de texto :')\n",
        "# calculamos la longitud de la cadena\n",
        "longitud = len(cadena)\n",
        "# imprimimos el resultado por pantalla\n",
        "print(f\"La longitud de la palabra '{cadena}' es {longitud} \")\n"
      ]
    },
    {
      "cell_type": "code",
      "execution_count": null,
      "metadata": {
        "cellView": "form",
        "id": "nqmB8osFsoOa"
      },
      "outputs": [],
      "source": [
        "# @title Solución Día 7\n",
        "\n",
        "#9. Determinar la Longitud de un string\n",
        "# Solicitar al usuario ingresar una palabra\n",
        "palabra = input(\"Ingresa una palabra: \")\n",
        "\n",
        "# Calcular y mostrar la longitud de la palabra\n",
        "longitud = len(palabra)\n",
        "print(f\"La longitud de la palabra '{palabra}' es {longitud}.\")"
      ]
    },
    {
      "cell_type": "markdown",
      "metadata": {
        "id": "Dv_GRvzIs_1p"
      },
      "source": [
        "## **Ver Sesión 2 Minibootcamp Python**\n",
        "\n",
        "En esta sesión aprenderás:\n",
        "- If-Else\n",
        "- Bucles for\n",
        "- Bucles while\n",
        "- Funciones\n",
        "- Listas y tuplas\n",
        "- Diccionarios\n",
        "\n",
        "Acceso a la sesión:\n",
        "[Sesión 2 Minibootcamp Python](https://nodd3r.com/masters/masterclass/courses/minibootcamp-python/theory/sesion-2-teoria-practica-python-intermedio)"
      ]
    },
    {
      "cell_type": "markdown",
      "metadata": {
        "id": "FoXyEIvFYgqK"
      },
      "source": [
        "# **Día 8. Bucles - For y While (Nivel 1)**\n"
      ]
    },
    {
      "cell_type": "markdown",
      "metadata": {
        "id": "26EuxkcDYlo2"
      },
      "source": [
        "Introdúcete en los bucles for y while.\n",
        "\n",
        "Link bucles: https://nodd3r.com/masters/master-data-science/courses/programacion-python/theory/que-es-un-bucle-for"
      ]
    },
    {
      "cell_type": "markdown",
      "metadata": {
        "id": "XhKI0orA5DtV"
      },
      "source": [
        "**Ejercicio:**\n",
        "\n",
        "Crea un programa que imprima los números del 1 al 10 utilizando un bucle."
      ]
    },
    {
      "cell_type": "code",
      "execution_count": null,
      "metadata": {
        "colab": {
          "base_uri": "https://localhost:8080/"
        },
        "id": "Bz4S9lvXYpeN",
        "outputId": "75222471-22d6-4597-b1c3-66b9b6b321a7"
      },
      "outputs": [
        {
          "output_type": "stream",
          "name": "stdout",
          "text": [
            "1\n",
            "2\n",
            "3\n",
            "4\n",
            "5\n",
            "6\n",
            "7\n",
            "8\n",
            "9\n",
            "10\n"
          ]
        }
      ],
      "source": [
        "# Escribe aquí tu código\n",
        "# asignamos el valor 11 a una variable\n",
        "numero=11\n",
        "# con un bucle imprimos los numeros desde el uno hasta la variable\n",
        "for i in range(1,numero):\n",
        "  print (i)\n"
      ]
    },
    {
      "cell_type": "code",
      "execution_count": null,
      "metadata": {
        "id": "RVPTO2lksu_g",
        "cellView": "form"
      },
      "outputs": [],
      "source": [
        "# @title Solución Día 8\n",
        "\n",
        "#10 Crea un programa que imprima los números del 1 al 10 utilizando un bucle.\n",
        "\n",
        "# Utilizar un bucle for para imprimir números del 1 al 10\n",
        "for numero in range(1, 11):\n",
        "    print(numero)"
      ]
    },
    {
      "cell_type": "markdown",
      "metadata": {
        "id": "QLwoOJk4yWS4"
      },
      "source": [
        "# **Día 9. Bucles - For y While (Nivel 1)**\n"
      ]
    },
    {
      "cell_type": "markdown",
      "metadata": {
        "id": "tYanM-H14zUK"
      },
      "source": [
        "**Ejercicio**:\n",
        "Adivina el número: Pide al usuario adivinar un número y sigue pidiendo hasta que lo adivine (el número a adivinar será definido como una variable inicial).\n",
        "\n",
        "Link bucles while: https://nodd3r.com/masters/master-data-science/courses/programacion-python/theory/que-es-un-bucle-while"
      ]
    },
    {
      "cell_type": "code",
      "execution_count": null,
      "metadata": {
        "colab": {
          "base_uri": "https://localhost:8080/"
        },
        "id": "9NtNWLy4Ys6O",
        "outputId": "6d0fbbac-0d4d-467a-8e86-edd4ec971c65"
      },
      "outputs": [
        {
          "output_type": "stream",
          "name": "stdout",
          "text": [
            "Adivina el número: 5\n",
            "Incorrecto. Intenta de nuevo.\n",
            "Adivina el número: 7\n",
            "Incorrecto. Intenta de nuevo.\n",
            "Adivina el número: 9\n",
            "¡Felicitaciones! Adivinaste el número correcto: 9\n"
          ]
        }
      ],
      "source": [
        "# Escribe aquí tu código\n",
        "# damos valor al número que hay que adivinar\n",
        "numero = 9\n",
        "# generamos un bucle para que pida el número por pantalla y lo compare hasta\n",
        "# que coincida con nuestro numero secreto\n",
        "while numero != int(input('Adivina el número: ')):\n",
        "# imprimimos que no es correcto mientras que no sea el correcto\n",
        "  print ('Incorrecto. Intenta de nuevo.')\n",
        "# imprimimos por pantalla que es correcto cuando ha salido del bucle al cumplir\n",
        "# la condicion de que coincide lo introducido con el numero secreto\n",
        "print('¡Felicitaciones! Adivinaste el número correcto: {}'.format(numero))\n"
      ]
    },
    {
      "cell_type": "code",
      "execution_count": null,
      "metadata": {
        "id": "LPTDab3vtcMO",
        "cellView": "form"
      },
      "outputs": [],
      "source": [
        "# @title Solución Día 9\n",
        "\n",
        "#11. Adivina el número: Pide al usuario adivinar un número y sigue pidiendo hasta que lo adivine.(el número a adivinar será definido como una variable inicial)\n",
        "# Definir el número a adivinar\n",
        "numero_secreto = 42\n",
        "\n",
        "# Pedir al usuario que adivine el número\n",
        "adivinanza = int(input(\"Adivina el número: \"))\n",
        "\n",
        "# Iniciar un bucle while para seguir pidiendo hasta que se adivine el número\n",
        "while adivinanza != numero_secreto:\n",
        "    print(\"Incorrecto. Intenta de nuevo.\")\n",
        "    adivinanza = int(input(\"Adivina el número: \"))\n",
        "\n",
        "# Si llegamos aquí, el usuario adivinó correctamente\n",
        "print(\"¡Felicitaciones! Adivinaste el número correcto:\", numero_secreto)\n",
        "\n",
        "# -----------------\n",
        "# otro ejemplo\n",
        "\n",
        "# 1. Pidas un número a un usuario\n",
        "num_user = int(input('Dime un numero:'))\n",
        "# 2. Crear el número correcto antes en una variable\n",
        "num_check = 5\n",
        "\n",
        "while num_user != num_check:\n",
        "  print('No es correcto')\n",
        "  num_user = int(input('Dime un numer:'))\n",
        "\n",
        "\n",
        "print('Has acertado!')"
      ]
    },
    {
      "cell_type": "markdown",
      "metadata": {
        "id": "hXOUltepQi7v"
      },
      "source": [
        "# **Día 10. Condicionales y sentencias if-else (Nivel 1)**\n",
        "\n",
        "**Ejercicio**\n",
        "Escribe un programa en Python que solicite al usuario ingresar un número.\n",
        "\n",
        "Luego, verifica si el número se encuentra dentro del rango de 10 a 50 (inclusive).\n",
        "\n",
        "Si el número está dentro de ese rango, el programa deberá imprimir \"El número está en el rango de 10 a 50\".\n",
        "\n",
        "En caso contrario, imprimirá \"El número está fuera del rango de 10 a 50\".\n",
        "\n",
        "Ejecuta el programa y verifica si un número dado se encuentra dentro del rango especificado.\n",
        "\n",
        "Link a teoría:https://nodd3r.com/masters/master-data-science/courses/programacion-python/theory/sentencia-if-else"
      ]
    },
    {
      "cell_type": "code",
      "execution_count": null,
      "metadata": {
        "colab": {
          "base_uri": "https://localhost:8080/"
        },
        "id": "s9SaYY5bQZeo",
        "outputId": "4652b18a-6af0-4bdc-a150-848704a795aa"
      },
      "outputs": [
        {
          "output_type": "stream",
          "name": "stdout",
          "text": [
            "Ingrese un número: 10\n",
            "El número está en el rango de 10 a 50.\n"
          ]
        }
      ],
      "source": [
        "# Escribe aquí el código\n",
        "# asignamos valor auna variable pidiendo al usuario\n",
        "# ingresar un número por pantalla\n",
        "numero=int(input('Ingrese un número: '))\n",
        "# comprobamos con una condición si el número ingresado\n",
        "# está en el rango de 10 a 50\n",
        "if numero in range(10,51):\n",
        "  # si el número está en el rango lo imprime por pantalla\n",
        "  print('El número está en el rango de 10 a 50.')\n",
        "else:\n",
        "  # en caso contrario imprime por pantalla que no está en el rango\n",
        "    print('El número está fuera del rango de 10 a 50.')\n"
      ]
    },
    {
      "cell_type": "code",
      "execution_count": null,
      "metadata": {
        "id": "et3I64KMt0Wm",
        "cellView": "form"
      },
      "outputs": [],
      "source": [
        "# @title Solución Día 10\n",
        "\n",
        "#12. Determinar si un número está en un rango específico\n",
        "\n",
        "# Solicitar al usuario ingresar un número\n",
        "numero_ingresado = float(input(\"Ingrese un número: \"))\n",
        "\n",
        "# Verificar si el número está dentro del rango de 10 a 50\n",
        "if 10 <= numero_ingresado <= 50:\n",
        "    print(\"El número está en el rango de 10 a 50.\")\n",
        "else:\n",
        "    print(\"El número está fuera del rango de 10 a 50.\")"
      ]
    },
    {
      "cell_type": "markdown",
      "metadata": {
        "id": "sDVTgAWcY0XC"
      },
      "source": [
        "# **Día 11. Encuentra errores y practica (nivel 1)**"
      ]
    },
    {
      "cell_type": "markdown",
      "metadata": {
        "id": "Hs1kLsU9Y9KE"
      },
      "source": [
        "En programación es muy importante saber gestionar los errores cotidianos y tener presente las estructuras"
      ]
    },
    {
      "cell_type": "markdown",
      "metadata": {
        "id": "yRV687JT4oFX"
      },
      "source": [
        "**Ejercicio:**\n",
        "Busca el error en los siguientes códigos y solucionalos:"
      ]
    },
    {
      "cell_type": "code",
      "execution_count": null,
      "metadata": {
        "colab": {
          "base_uri": "https://localhost:8080/"
        },
        "id": "OooLVqydZAId",
        "outputId": "0bc4946d-cdcf-4ade-d2f2-00a1ebc7b525"
      },
      "outputs": [
        {
          "name": "stdout",
          "output_type": "stream",
          "text": [
            "La suma de los números pares es: 30\n"
          ]
        }
      ],
      "source": [
        "#13 Busca el error en los siguientes códigos y solucionalos:\n",
        "\n",
        "#Ejercicio 1:\n",
        "# estaba mal la identación\n",
        "total = 0\n",
        "for i in range(1, 11):\n",
        "  if i % 2 == 0:\n",
        "    total += i\n",
        "print(\"La suma de los números pares es:\", total)\n",
        "\n",
        "\n"
      ]
    },
    {
      "cell_type": "code",
      "execution_count": null,
      "metadata": {
        "colab": {
          "base_uri": "https://localhost:8080/"
        },
        "id": "nKXVSdD1ZL9_",
        "outputId": "81e66767-5aec-49ba-93d9-f4cee7d15c71"
      },
      "outputs": [
        {
          "name": "stdout",
          "output_type": "stream",
          "text": [
            "Tienes 20 años\n"
          ]
        }
      ],
      "source": [
        "#Ejercicio 2:\n",
        "edad = 20\n",
        "# operador mal escrito es '==' y no '='\n",
        "if edad == 20:\n",
        "    print(\"Tienes 20 años\")"
      ]
    },
    {
      "cell_type": "code",
      "execution_count": null,
      "metadata": {
        "colab": {
          "base_uri": "https://localhost:8080/"
        },
        "id": "9xksimlWZRbb",
        "outputId": "79e5ae10-e596-4b81-dd72-6908bcd7f777"
      },
      "outputs": [
        {
          "output_type": "stream",
          "name": "stdout",
          "text": [
            "15\n"
          ]
        }
      ],
      "source": [
        "#Ejercicio 3:\n",
        "numero = 10\n",
        "cadena = \"5\"\n",
        "# error al intentar sumar entero con cadena, usar la funcion int\n",
        "# para que sume dos números y no de error\n",
        "resultado = numero + int(cadena)\n",
        "print(resultado)"
      ]
    },
    {
      "cell_type": "code",
      "execution_count": null,
      "metadata": {
        "id": "L-lYcYWOu_zh",
        "cellView": "form"
      },
      "outputs": [],
      "source": [
        "# @title Solución día 11\n",
        "\n",
        "# Ejercicio 1:\n",
        "# problemas de identación\n",
        "total = 0\n",
        "for i in range(1, 11):\n",
        "    if i % 2 == 0:\n",
        "        total += i\n",
        "\n",
        "print(\"La suma de los números pares es:\", total)\n",
        "\n",
        "# Ejercicio 2:\n",
        "# error en el operador \"=\" en el if, debería ser \"==\"\n",
        "edad = 20\n",
        "if edad == 20:\n",
        "    print(\"Tienes 20 años\")\n",
        "\n",
        "\n",
        "# Ejercicio 3:\n",
        "# no se puede sumar un entero con un string, convertir string a entero con int()\n",
        "numero = 10\n",
        "cadena = \"5\"\n",
        "resultado = numero + int(cadena)\n",
        "\n",
        "print(resultado)"
      ]
    },
    {
      "cell_type": "markdown",
      "metadata": {
        "id": "i4OodphiZVDQ"
      },
      "source": [
        "# **Día 12. Funciones (Nivel 2)**\n",
        "Comprende cómo definir y llamar a funciones en Python.\n",
        "\n",
        "Las funciones en Python son como pequeñas tareas o acciones que puedes definir y luego reutilizar en tu código. Imagina que tienes un conjunto de pasos que quieres realizar en varias partes de tu programa. En lugar de escribir esos pasos una y otra vez, puedes agruparlos en una función y darle un nombre descriptivo.\n",
        "\n",
        "**Definición de una función:** Primero, defines una función dando un nombre a la tarea que realizará. Por ejemplo, podrías crear una función llamada saludar para decir \"Hola\" a alguien.\n",
        "\n",
        "**Parámetros:** Puedes darle a tu función información para que trabaje. Estos datos se llaman parámetros y se colocan entre paréntesis después del nombre de la función. Por ejemplo, podrías pasar el nombre de una persona como parámetro a la función saludar.\n",
        "\n",
        "**Cuerpo de la función:** Aquí es donde escribes los pasos que la función realizará cuando sea llamada. En el caso de saludar, el cuerpo de la función contendría las instrucciones para imprimir \"Hola\" seguido del nombre que se proporcionó como parámetro.\n",
        "\n",
        "**Llamada a la función:** Cuando quieras ejecutar los pasos definidos en la función, simplemente llamas a la función por su nombre, pasando cualquier información necesaria como parámetros. En nuestro ejemplo, podrías llamar a saludar(\"Juan\") para decir \"Hola Juan\".\n",
        "\n",
        "` def nombre_fucion (parametros)`"
      ]
    },
    {
      "cell_type": "markdown",
      "metadata": {
        "id": "Ga7SOaZ5iAVc"
      },
      "source": [
        "Comprende cómo definir y llamar a funciones en Python.\n",
        "\n",
        "Link funciones: https://nodd3r.com/masters/master-data-science/courses/programacion-python/theory/que-son-las-funciones"
      ]
    },
    {
      "cell_type": "markdown",
      "metadata": {
        "id": "LTBA8AN94iNL"
      },
      "source": [
        "**Ejercicio:**\n",
        "Crea una función que calcule el área de un círculo dado su radio.\n"
      ]
    },
    {
      "cell_type": "code",
      "execution_count": null,
      "metadata": {
        "colab": {
          "base_uri": "https://localhost:8080/"
        },
        "id": "q3aLBrq-iGmo",
        "outputId": "39acab73-af78-46bf-d0d9-4e9fbb16f4f0"
      },
      "outputs": [
        {
          "output_type": "stream",
          "name": "stdout",
          "text": [
            "Introduce el radio del circulo : 2.5\n",
            "El área del triángulo es 19.63495\n"
          ]
        }
      ],
      "source": [
        "# definimos la función que calcula el area del circulo\n",
        "def area_circulo(radio):\n",
        "  # creamos la variable pi\n",
        "  pi=3.141592\n",
        "  # calculamos el area del círculo cuyo radio nos viene\n",
        "  # pasado por valor a la función\n",
        "  area=(radio**2)*pi\n",
        "  # devolvemos el área calculada\n",
        "  return (area)\n",
        "# asignamos el valor a la variable radio pidiendo al usuario\n",
        "# que lo introduzca por pantalla\n",
        "radio = float(input('Introduce el radio del circulo : '))\n",
        "print(f'El área del triángulo es {area_circulo(radio)}')"
      ]
    },
    {
      "cell_type": "code",
      "execution_count": null,
      "metadata": {
        "id": "Xuf6ubbNv0wm",
        "cellView": "form"
      },
      "outputs": [],
      "source": [
        "# @title Solución  Día 12\n",
        "\n",
        "#14 Crea una función que calcule el área de un círculo dado su radio.\n",
        "def area_circulo(radio):\n",
        "    return 3.1416 * radio * radio\n",
        "\n",
        "radio = 2.5\n",
        "area = area_circulo(radio)\n",
        "print(\"El área del círculo es:\", area)"
      ]
    },
    {
      "cell_type": "markdown",
      "metadata": {
        "id": "r01Dho9jygFA"
      },
      "source": [
        "# **Día 13. Funciones (Nivel 2)**\n"
      ]
    },
    {
      "cell_type": "markdown",
      "metadata": {
        "id": "6nByi8pY4aSA"
      },
      "source": [
        "**Ejercicio:**\n",
        "Escribe una función llamada saludar(nombre) que tome un parámetro nombre.\n",
        "\n",
        "Esta función debe imprimir un saludo personalizado utilizando el nombre proporcionado como argumento.\n",
        "\n",
        "Llama a la función con el nombre \"Juan\" y verifica que se muestre el saludo."
      ]
    },
    {
      "cell_type": "code",
      "execution_count": null,
      "metadata": {
        "colab": {
          "base_uri": "https://localhost:8080/"
        },
        "id": "ZTDUkdkWiIpP",
        "outputId": "1e133ff5-7967-4fed-ca2f-0022332ef6fb"
      },
      "outputs": [
        {
          "output_type": "stream",
          "name": "stdout",
          "text": [
            "Hola, Pedro Juan\n"
          ]
        }
      ],
      "source": [
        "# Escribe aquí tu código\n",
        "# definimos la función que imprime un nombre que se le pasa por valor\n",
        "def saludar(nombre):\n",
        "  return (f'Hola, {nombre}')\n",
        "# asignamos un valor a la variable nombre\n",
        "nombre='Pedro Juan'\n",
        "# llamamos a la función pasandole un nombre para que lo imprima por pantalla\n",
        "print (saludar(nombre))\n",
        "\n",
        "\n"
      ]
    },
    {
      "cell_type": "code",
      "execution_count": null,
      "metadata": {
        "id": "mDBrg5UHv7sY",
        "cellView": "form"
      },
      "outputs": [],
      "source": [
        "# @title Solución Día 13\n",
        "\n",
        "# 15 Escribe una función llamada saludar(nombre) que tome un parámetro nombre.\n",
        "# Esta función debe imprimir un saludo personalizado utilizando el nombre proporcionado como argumento.\n",
        "# Llama a la función con el nombre \"Juan\" y verifica que se muestre el saludo.\n",
        "\n",
        "# Definición de la función saludar con un parámetro nombre\n",
        "def saludar(nombre):\n",
        "    print(f\"¡Hola, {nombre}!\")\n",
        "\n",
        "# Llamada a la función con el nombre \"Juan\"\n",
        "saludar(\"Juan\")"
      ]
    },
    {
      "cell_type": "markdown",
      "metadata": {
        "id": "JyhJMA-vyinQ"
      },
      "source": [
        "# **Día 14. Funciones (Nivel 2)**\n"
      ]
    },
    {
      "cell_type": "markdown",
      "metadata": {
        "id": "9JBhilqG382G"
      },
      "source": [
        "| Función         | Descripción                                                              | Ejemplo de Código                            |\n",
        "|-----------------|--------------------------------------------------------------------------|----------------------------------------------|\n",
        "| `s.lower()`     | Convierte todos los caracteres del string `s` en minúsculas.             | `s = \"Hello\".lower()` -> \"hello\"             |\n",
        "| `s.upper()`     | Convierte todos los caracteres del string `s` en mayúsculas.             | `s = \"Hello\".upper()` -> \"HELLO\"             |\n",
        "| `s.capitalize()` | Convierte el primer carácter del string `s` en mayúscula y el resto en minúsculas. | `s = \"hello world\".capitalize()` -> \"Hello world\" |\n",
        "| `s.title()`     | Convierte el primer carácter de cada palabra en mayúscula y el resto en minúsculas. | `s = \"hello world\".title()` -> \"Hello World\" |\n",
        "| `s.strip()`     | Elimina los espacios en blanco al inicio y al final del string `s`.      | `s = \"  hello  \".strip()` -> \"hello\"         |\n",
        "| `s.rstrip()`    | Elimina los espacios en blanco solo al final del string `s`.             | `s = \"hello  \".rstrip()` -> \"hello\"          |\n",
        "| `s.lstrip()`    | Elimina los espacios en blanco solo al inicio del string `s`.            | `s = \"  hello\".lstrip()` -> \"hello\"          |\n",
        "| `s.find(sub)`   | Devuelve el índice más bajo en el string `s` donde se encuentra el substring `sub`, o -1 si no se encuentra. | `s = \"hello\".find(\"lo\")` -> 3                |\n",
        "| `s.replace(old, new)` | Reemplaza todas las ocurrencias del substring `old` por `new` en el string `s`. | `s = \"hello\".replace(\"l\", \"L\")` -> \"heLLo\"   |\n",
        "| `s.split(sep=None)` | Divide el string `s` en una lista de strings usando `sep` como delimitador. Si `sep` no se especifica, se usa cualquier espacio en blanco como delimitador. | `s = \"hello world\".split()` -> [\"hello\", \"world\"] |\n",
        "| `s.join(iterable)` | Une los elementos de `iterable` en un único string, intercalándolos con el string `s`. | `s = \", \".join([\"hello\", \"world\"])` -> \"hello, world\" |\n",
        "| `s.count(sub)`  | Cuenta las ocurrencias del substring `sub` dentro del string `s`.        | `s = \"hello\".count(\"l\")` -> 2                |\n",
        "| `s.startswith(prefix)` | Retorna `True` si el string `s` comienza con el substring `prefix`.     | `s = \"hello\".startswith(\"he\")` -> True       |\n",
        "| `s.endswith(suffix)` | Retorna `True` si el string `s` termina con el substring `suffix`.       | `s = \"hello\".endswith(\"lo\")` -> True         |\n",
        "| `len(s)`        | Devuelve la longitud del string `s`.                                     | `s = len(\"hello\")` -> 5                      |\n",
        "| `s.isdigit()`   | Retorna `True` si todos los caracteres en el string `s` son dígitos.     | `s = \"123\".isdigit()` -> True                |\n",
        "| `s.isalpha()`   | Retorna `True` si todos los caracteres en el string `s` son alfabéticos. | `s = \"hello\".isalpha()` -> True              |\n"
      ]
    },
    {
      "cell_type": "markdown",
      "metadata": {
        "id": "Cg1UEfN84TLp"
      },
      "source": [
        "**Ejercicio:**\n",
        "Crea una función para contar la cantidad de palabras en una cadena de texto\n"
      ]
    },
    {
      "cell_type": "code",
      "execution_count": null,
      "metadata": {
        "colab": {
          "base_uri": "https://localhost:8080/"
        },
        "id": "QJSlckkYPUIF",
        "outputId": "8fb8d32e-85c6-45f4-a9e1-3ac194720388"
      },
      "outputs": [
        {
          "output_type": "stream",
          "name": "stdout",
          "text": [
            "Introduce la cadena para contar sus palabras :    Prueba    con   espacios     \n",
            "El numero de palabras de la cadena '   Prueba    con   espacios     ' es: 3\n"
          ]
        }
      ],
      "source": [
        "# Escribe aquí tu código\n",
        "# funcion que devuelve el número palabras de la cadena que se le pasa\n",
        "def cuenta_palabras(cadena):\n",
        "  # inicializamos las variables contador y estamos_en_palabra\n",
        "  contador = 0\n",
        "  estamos_en_palabra=False\n",
        "# quitamos los espacios en blanco al principio de la cadena\n",
        "  cadena=cadena.rstrip()\n",
        "# quitamos los espacios en blanco al final de la cadena\n",
        "  cadena=cadena.lstrip()\n",
        "# creamos un contador para recorrer las letras de la cadena\n",
        "  for letra in cadena:\n",
        "    # para cada letra comprobamos si es un espacio en blanco\n",
        "    if letra==' ':\n",
        "  # si encontramos un espacio ' ', no estamos en palabra\n",
        "      estamos_en_palabra = False\n",
        "    else:\n",
        "    # si el caracter no es un espacio ' ' y no estamos en palabra\n",
        "      if not estamos_en_palabra:\n",
        "      # aumentamos el contador de palabras y marcamos que estamos en una palabra\n",
        "        contador += 1\n",
        "        estamos_en_palabra = True\n",
        "  # devolvemos el contador con las palabras contadas\n",
        "  return contador\n",
        "# pedimos al usuario por pantalla que introduzca la cadena\n",
        "cadena = input('Introduce la cadena para contar sus palabras : ')\n",
        "# almacenamos en una variable el valor del recuento de palabrasque obtenemos\n",
        "# de pasarle a la funcion la cadena que nos ha facilitado el usuario\n",
        "palabras_contadas=(cuenta_palabras(cadena))\n",
        "# imprimos por pantalla la cadena y el numero de palabras contadas\n",
        "print(f\"El numero de palabras de la cadena '{cadena}' es: {palabras_contadas}\")"
      ]
    },
    {
      "cell_type": "code",
      "execution_count": null,
      "metadata": {
        "id": "zlb1ICBAwNvj",
        "cellView": "form"
      },
      "outputs": [],
      "source": [
        "# @title Solución Día 14\n",
        "\n",
        "#16 Crea una función para contar la cantidad de palabras en una cadena de texto\n",
        "def contar_palabras(texto):\n",
        "    palabras = texto.split()\n",
        "    return len(palabras)\n",
        "\n",
        "frase = \"Hola, esto es un ejemplo de conteo de palabras.\"\n",
        "cantidad_palabras = contar_palabras(frase)\n",
        "print(f\"La frase tiene {cantidad_palabras} palabras.\")"
      ]
    },
    {
      "cell_type": "markdown",
      "metadata": {
        "id": "aWBpvaDKigyZ"
      },
      "source": [
        "# **Día 15. Listas (Nivel 2)**\n",
        "\n",
        "\n",
        "\n",
        "*   Una lista es una colección ordenada y modificable de elementos en Python.\n",
        "*   Puedes crear una lista usando corchetes [] y separando los elementos por comas.\n",
        "*   Puedes acceder a los elementos de una lista mediante su índice (empezando desde 0).\n",
        "\n",
        "\n",
        "```\n",
        "mi_lista = [1, 2, 3, 4, 5]\n",
        "```\n",
        "\n",
        "Link listas: https://nodd3r.com/masters/master-data-science/courses/programacion-python/theory/que-son-las-listas"
      ]
    },
    {
      "cell_type": "markdown",
      "metadata": {
        "id": "VuCkTlGX0HXd"
      },
      "source": [
        "**Ejercicio:**\n",
        "Escribe un programa que sume todos los elementos de una lista de números"
      ]
    },
    {
      "cell_type": "code",
      "execution_count": null,
      "metadata": {
        "colab": {
          "base_uri": "https://localhost:8080/"
        },
        "id": "3H4LR0lViLyb",
        "outputId": "aea69b2b-b2ed-43d7-a0da-62cbad96f3c8"
      },
      "outputs": [
        {
          "output_type": "stream",
          "name": "stdout",
          "text": [
            "15\n"
          ]
        }
      ],
      "source": [
        "# Escribe aquí tu código\n",
        "# eclaracmos la función a la que se le pasa una lista de\n",
        "# números, suma todos los elementos y devuelve la suma\n",
        "def suma_lista (lista_numeros):\n",
        "# inicializamos la variable suma con valor cero\n",
        "  suma=0\n",
        "# recorremos la lista y vamos sumamos cada uno de los elememtos\n",
        "# a la variable suma hasta terminar la lista\n",
        "  for numero in lista_numeros:\n",
        "    suma=suma+numero\n",
        "# devolvemosla suma final\n",
        "  return suma\n",
        "# declaramos una lista\n",
        "mi_lista = [1, 2, 3, 4, 5]\n",
        "# almacenamos en una variable el resultado de pasarle la lista\n",
        "# a la función para que sume sus elementos\n",
        "lista_sumada=suma_lista(mi_lista)\n",
        "# Imprimimos por pantalla la variable que contiene la suma\n",
        "print(lista_sumada)"
      ]
    },
    {
      "cell_type": "code",
      "execution_count": null,
      "metadata": {
        "id": "B63pclNCwVXF",
        "cellView": "form"
      },
      "outputs": [],
      "source": [
        "# @title Solución Día 15\n",
        "\n",
        "#17 Escribe un programa que sume todos los elementos de una lista de números.\n",
        "\n",
        "# Definir una lista de números\n",
        "numeros = [1, 2, 3, 4, 5]\n",
        "\n",
        "# Inicializar una variable para almacenar la suma\n",
        "suma = 0\n",
        "\n",
        "# Iterar a través de la lista y sumar cada elemento a la variable suma\n",
        "for numero in numeros:\n",
        "    suma += numero\n",
        "\n",
        "# Imprimir el resultado\n",
        "print(\"La suma de todos los numeros de la suma es {}: \".format(suma))"
      ]
    },
    {
      "cell_type": "markdown",
      "metadata": {
        "id": "6lAh56EXwo-D"
      },
      "source": [
        "## Ver sesión 3 Minibootcamp\n",
        "\n",
        "En esta sesión aprenderás:\n",
        "- Archivos\n",
        "\n",
        "- Excepciones\n",
        "\n",
        "- Comprehensions\n",
        "\n",
        "- Regex\n",
        "\n",
        "Puedes acceder aquí:\n",
        "[Sesión 3 Minibootcamp Python](https://nodd3r.com/masters/masterclass/courses/minibootcamp-python/theory/sesion-3-python-avanzado-teoria-practica)"
      ]
    },
    {
      "cell_type": "markdown",
      "metadata": {
        "id": "7eCIJZLQypSZ"
      },
      "source": [
        "# **Día 16. Listas (Nivel 2)**\n",
        "\n",
        "**Ejercicio**:\n",
        "Crea un programa que permita al usuario ingresar una lista de números y luego ordene esos números en orden ascendente. El programa debe hacer lo siguiente:\n",
        "\n",
        "Pedir al usuario que ingrese una serie de números, uno por uno, y almacenarlos en una lista.\n",
        "\n",
        "Ordenar la lista de números en orden ascendente.\n",
        "\n",
        "Mostrar la lista ordenada al usuario.\n",
        "\n"
      ]
    },
    {
      "cell_type": "code",
      "execution_count": null,
      "metadata": {
        "colab": {
          "base_uri": "https://localhost:8080/"
        },
        "id": "91u9TcWtu7MN",
        "outputId": "4533a0f4-75c2-487a-86f1-c8011d75c18e"
      },
      "outputs": [
        {
          "output_type": "stream",
          "name": "stdout",
          "text": [
            "Ingrese un número (o 'fin' para finalizar) 9\n",
            "9\n",
            "Ingrese un número (o 'fin' para finalizar) 1\n",
            "1\n",
            "Ingrese un número (o 'fin' para finalizar) 6\n",
            "6\n",
            "Ingrese un número (o 'fin' para finalizar) 2\n",
            "2\n",
            "Ingrese un número (o 'fin' para finalizar) \n",
            "Por favor, ingrese un número válido.\n",
            "Ingrese un número (o 'fin' para finalizar) \n",
            "Por favor, ingrese un número válido.\n",
            "Ingrese un número (o 'fin' para finalizar) \n",
            "Por favor, ingrese un número válido.\n",
            "Ingrese un número (o 'fin' para finalizar) 7\n",
            "7\n",
            "Ingrese un número (o 'fin' para finalizar) \n",
            "Por favor, ingrese un número válido.\n",
            "Ingrese un número (o 'fin' para finalizar) fin\n",
            "La lista ordenada creada con los números introducidos es [1, 2, 6, 7, 9]\n"
          ]
        }
      ],
      "source": [
        "# Escribe aquí tu código\n",
        "# inicializamos la variable lista vacía\n",
        "lista=[]\n",
        "# creamos un buble para que pida al usuario que introduzca una\n",
        "# variable hasta que rompamos el bucle con la palabra 'fin'\n",
        "# si no introduce o un número o la cadena para romperlo imprimirá\n",
        "# en pantalla un mensaje de error\n",
        "while True :\n",
        "  # mientras que no se rompa el bucle asignará el valor introducido\n",
        "  # por pantalla a la variable\n",
        "  numero = input(\"Ingrese un número (o 'fin' para finalizar): \")\n",
        "  # si la variable coincide con la palabra \"fin\" rompemos el bucle y salimos\n",
        "  if numero.lower()=='fin':\n",
        "    break\n",
        "  # si la variable es un número lo añadimos a una la lista\n",
        "  if numero.isdigit():\n",
        "    numero=int(numero)\n",
        "    print(numero)\n",
        "    lista.append(numero)\n",
        "  else :\n",
        "  # sino imprimimos por pantalla un mensaje de error\n",
        "    print('Por favor, ingrese un número válido.')\n",
        "# asignamos una variable el valor de la lista ordenada\n",
        "lista_ordenada=sorted(lista)\n",
        "# imprimimos por pantalla la lista ordenada\n",
        "print(f'La lista ordenada creada con los números introducidos es: {lista_ordenada}')\n",
        "8345"
      ]
    },
    {
      "cell_type": "code",
      "execution_count": null,
      "metadata": {
        "id": "44Mt-pU1wetw",
        "cellView": "form"
      },
      "outputs": [],
      "source": [
        "# @title Solución Día 16\n",
        "\n",
        "numeros = []\n",
        "while True:\n",
        "    numero = input(\"Ingrese un número (o 'fin' para finalizar): \")\n",
        "    if numero.lower() == 'fin':\n",
        "        break\n",
        "    try:\n",
        "        numero = float(numero)\n",
        "        numeros.append(numero)\n",
        "    except ValueError:\n",
        "        print(\"Por favor, ingrese un número válido.\")\n",
        "\n",
        "# Paso 2: Ordenar la lista de números en orden ascendente\n",
        "numeros.sort()\n",
        "\n",
        "# Paso 3: Mostrar la lista ordenada al usuario\n",
        "print(\"Lista de números ordenada:\")\n",
        "for numero in numeros:\n",
        "    print(numero)"
      ]
    },
    {
      "cell_type": "markdown",
      "metadata": {
        "id": "YvAG0N59RlFo"
      },
      "source": [
        "# **Día 17. Tuplas(Nivel 2)**\n",
        "\n",
        "\n",
        "\n",
        "*   Una tupla es similar a una lista, pero es inmutable, lo que significa que no puedes cambiar su contenido después de crearla.\n",
        "*   Puedes crear una tupla usando paréntesis () y separando los elementos por comas.\n",
        "*   Puedes acceder a los elementos de una tupla mediante su índice al igual que en las listas.\n",
        "*   Las tuplas son útiles cuando deseas almacenar datos que no deben modificarse, como coordenadas.\n",
        "\n",
        "```\n",
        "mi_tupla = (1, 2, 3, 4, 5)\n",
        "\n",
        "```\n",
        "\n",
        "Link tuplas: https://nodd3r.com/masters/master-data-science/courses/programacion-python/theory/que-son-las-tuplas"
      ]
    },
    {
      "cell_type": "markdown",
      "metadata": {
        "id": "SKLkDaRXzrWx"
      },
      "source": [
        "**Ejercicio**:\n",
        "Crea un programa que sume los valores de una tupla de números y muestre el resultado."
      ]
    },
    {
      "cell_type": "code",
      "execution_count": null,
      "metadata": {
        "colab": {
          "base_uri": "https://localhost:8080/"
        },
        "id": "NMpYQXcqBp7Z",
        "outputId": "e81206b0-bd44-4d56-9f65-c610428d7913"
      },
      "outputs": [
        {
          "output_type": "stream",
          "name": "stdout",
          "text": [
            "La suma de todos los numeros de la suma es: 15\n"
          ]
        }
      ],
      "source": [
        "# Escribe aquí tu código\n",
        "# asignamos valor a una tupla\n",
        "mi_tupla = (1, 2, 3, 4, 5)\n",
        "# inicializamos la variable suma a 0\n",
        "suma=0\n",
        "# creamos un bucle que recorra la lista y sume los numeros en en la variable\n",
        "for numero in mi_tupla :\n",
        "  suma=suma+numero\n",
        "# imprimimos por pantalla la variable resultante de sumar los números de la tupla\n",
        "print(\"La suma de todos los números de la suma es: {}\".format(suma))"
      ]
    },
    {
      "cell_type": "code",
      "execution_count": null,
      "metadata": {
        "id": "_ZMCMTtcw9I6",
        "cellView": "form"
      },
      "outputs": [],
      "source": [
        "# @title Solución Día 17\n",
        "\n",
        "#19 Crea un programa que sume los valores de una tupla de números y muestre el resultado.\n",
        "\n",
        "# Definir una tupla de números\n",
        "numeros = (10, 20, 30, 40, 50)\n",
        "\n",
        "# Calcular la suma de los números en la tupla\n",
        "suma = sum(numeros)\n",
        "\n",
        "# Mostrar la suma en pantalla\n",
        "print(f\"La suma de los números en la tupla es: {suma}\")"
      ]
    },
    {
      "cell_type": "markdown",
      "metadata": {
        "id": "lSCxyUV-Sss0"
      },
      "source": [
        "# **Día 18. Diccionarios (Nivel 2)**\n",
        "\n",
        "\n",
        "\n",
        "*  Un diccionario es una colección de pares clave-valor en Python.\n",
        "*  Puedes crear un diccionario usando llaves {} y especificando pares clave-valor separados por comas.\n",
        "*  Los diccionarios son útiles para representar datos estructurados y etiquetados.\n",
        "*   Puedes acceder a los valores del diccionario utilizando las claves en lugar de índices.\n",
        "\n",
        "```\n",
        "mi_diccionario = {\"nombre\": \"Juan\", \"edad\": 30, \"ciudad\": \"Ejemplo\"}\n",
        "\n",
        "\n",
        "```\n",
        "\n",
        "Link Diccionarios: https://nodd3r.com/masters/master-data-science/courses/programacion-python/theory/que-son-los-diccionarios"
      ]
    },
    {
      "cell_type": "markdown",
      "metadata": {
        "id": "zRoADJNwzied"
      },
      "source": [
        "**Ejercicio**:\n",
        "\n",
        "Crea un programa que represente un diccionario de frutas y permita al usuario consultar la cantidad de cada tipo de fruta en el diccionario.\n",
        "\n",
        "El programa debe hacer lo siguiente:\n",
        "\n",
        "Inicializar un diccionario con al menos tres tipos de frutas y sus respectivas cantidades.\n",
        "\n",
        "Pedir al usuario que ingrese el nombre de una fruta.\n",
        "\n",
        "Mostrar la cantidad de esa fruta en el diccionario."
      ]
    },
    {
      "cell_type": "code",
      "execution_count": null,
      "metadata": {
        "colab": {
          "base_uri": "https://localhost:8080/"
        },
        "id": "m4s3IuqfCPGF",
        "outputId": "8436d06e-4032-4b17-ae2b-006c646061cc"
      },
      "outputs": [
        {
          "output_type": "stream",
          "name": "stdout",
          "text": [
            "Ingrese el nombre de una fruta: 5\n",
            "5 no se encuentra en el diccionario de frutas.\n"
          ]
        }
      ],
      "source": [
        "# Escribe aquí tu código\n",
        "# creamos un diccionario de frutas que contenga el nombre y la\n",
        "# cantidad de cada una\n",
        "diccionario_frutas = {\n",
        "    'platano': 15,\n",
        "    'manzana': 10,\n",
        "    'mandarina': 5\n",
        "    }\n",
        "# pedimos una fruta por pantalla para buscar en el diccionario\n",
        "fruta_consultada = input(\"Ingrese el nombre de una fruta: \").lower()\n",
        "\n",
        "# comprobamos si la fruta está en el diccionario\n",
        "# si está mostramos la cantidad, si no está imprimimos un mensaje\n",
        "# que diga que no se encuentra.\n",
        "if fruta_consultada in diccionario_frutas:\n",
        "  cantidad=diccionario_frutas[fruta_consultada]\n",
        "  print(\"La cantidad de {} es: {}\".format(fruta_consultada,cantidad))\n",
        "else:\n",
        "  print(f\"{fruta_consultada} no se encuentra en el diccionario de frutas.\")"
      ]
    },
    {
      "cell_type": "markdown",
      "metadata": {
        "id": "mC_Rbad0VRRx"
      },
      "source": []
    },
    {
      "cell_type": "code",
      "execution_count": null,
      "metadata": {
        "id": "-Tx1f__KxIjY",
        "cellView": "form"
      },
      "outputs": [],
      "source": [
        "# @title Solución Día 18\n",
        "\n",
        "# 20 Crea un programa que represente un diccionario de frutas y permita al usuario consultar la cantidad de cada tipo de fruta en el diccionario. El programa debe hacer lo siguiente:\n",
        "\n",
        "# Inicializar un diccionario con al menos tres tipos de frutas y sus respectivas cantidades.\n",
        "# Pedir al usuario que ingrese el nombre de una fruta.\n",
        "# Mostrar la cantidad de esa fruta en el diccionario.\n",
        "\n",
        "# Inicializar un diccionario de frutas\n",
        "frutas = {\"manzana\": 10, \"banano\": 5, \"uva\": 15}\n",
        "\n",
        "# Pedir al usuario el nombre de una fruta\n",
        "fruta_consulta = input(\"Ingrese el nombre de una fruta: \")\n",
        "\n",
        "# Mostrar la cantidad de la fruta consultada\n",
        "if fruta_consulta in frutas:\n",
        "    cantidad = frutas[fruta_consulta]\n",
        "    print(f\"La cantidad de {fruta_consulta} es: {cantidad}\")\n",
        "else:\n",
        "    print(f\"{fruta_consulta} no se encuentra en el diccionario de frutas.\")"
      ]
    },
    {
      "cell_type": "markdown",
      "metadata": {
        "id": "e19SH9jsSzEl"
      },
      "source": [
        "# **Día 19. Ejercicio para reforzar todos los conceptos (Nivel 3)**\n",
        "**Ejercicio: Registro de Notas**\n",
        "\n",
        "Crea un programa que permita al usuario registrar las notas de estudiantes en un diccionario. El programa debe hacer lo siguiente:\n",
        "\n",
        "<br>\n",
        "\n",
        "*   Pedir al usuario que ingrese el nombre de un estudiante.\n",
        "\n",
        "*  Almacenar la nota en un diccionario donde la clave sea el nombre del estudiante y el valor sea su nota.\n",
        "\n",
        "*   Repetir los pasos 1-3 para varios estudiantes.\n",
        "*   Mostrar el diccionario de notas completo al final.\n",
        "\n",
        "\n",
        "\n",
        "\n"
      ]
    },
    {
      "cell_type": "code",
      "execution_count": null,
      "metadata": {
        "id": "zLyseloiobME"
      },
      "outputs": [],
      "source": []
    },
    {
      "cell_type": "code",
      "execution_count": null,
      "metadata": {
        "colab": {
          "base_uri": "https://localhost:8080/"
        },
        "id": "y7yM64dFy4yu",
        "outputId": "9b8a1fb4-78b5-4ba3-c9d7-771bfcc80744"
      },
      "outputs": [
        {
          "output_type": "stream",
          "name": "stdout",
          "text": [
            "Ingrese el nombre del estudiante (o 'fin' para finalizar): Juan\n",
            "Ingrese la nota del estudiante: 11\n",
            "Por favor, ingrese un número 0 y 10.\n",
            "Ingrese la nota del estudiante: 6\n",
            "Ingrese el nombre del estudiante (o 'fin' para finalizar): Juana\n",
            "Ingrese la nota del estudiante: 2\n",
            "Ingrese el nombre del estudiante (o 'fin' para finalizar): Federico\n",
            "Ingrese la nota del estudiante: 7\n",
            "Ingrese el nombre del estudiante (o 'fin' para finalizar): Jose Luis\n",
            "Ingrese la nota del estudiante: 5\n",
            "Ingrese el nombre del estudiante (o 'fin' para finalizar): Lucía\n",
            "Ingrese la nota del estudiante: 4\n",
            "Ingrese el nombre del estudiante (o 'fin' para finalizar): d\n",
            "Ingrese la nota del estudiante: df\n",
            "Por favor, ingrese un número válido para la nota.\n",
            "Ingrese la nota del estudiante: 2\n",
            "Ingrese el nombre del estudiante (o 'fin' para finalizar): fin\n",
            "Registro de Notas:\n",
            "Juan: 6.0\n",
            "Juana: 2.0\n",
            "Federico: 7.0\n",
            "Jose Luis: 5.0\n",
            "Lucía: 4.0\n",
            "d: 2.0\n"
          ]
        }
      ],
      "source": [
        "# Escribe aquí tu código\n",
        "diccionario_notas = {}\n",
        "# creamos un bucle para que pida al usuario los datos del alumno hasta que\n",
        "# introduzca la palabra \"fin\" y salimos del bucle\n",
        "while True:\n",
        "    # pedimos el nombre del estudiante y lo almacenamos en una variable\n",
        "    nombre = input(\"Ingrese el nombre del estudiante (o 'fin' para finalizar): \")\n",
        "    # si la variable convertida a minúsculas es la cadena 'fin' salimos del bucle\n",
        "    if nombre.lower() == 'fin':\n",
        "        break\n",
        "    else:\n",
        "    # sino pedimos la nota hasta que se ingrese un número válido con bucle\n",
        "    # que se romperá cuando la introduzca bien\n",
        "        while True:\n",
        "            # pedimos la nota al usuario por pantalla y la almacenamos en una variable\n",
        "            nota = input('Ingrese la nota del estudiante: ')\n",
        "            # comprobamos si la variable es un número\n",
        "            if nota.isdigit():\n",
        "              # si es un número la convertimos a float y\n",
        "              # comprobamos si la variable está entre 0 y 10\n",
        "                nota = float(nota)\n",
        "                if (0 <= nota <= 10):\n",
        "                # si se dan todas las condiciones grabamos el registro\n",
        "                # en el diccionario con el nombre y la nota y salimos del bucle\n",
        "                  diccionario_notas[nombre] = nota\n",
        "                  break\n",
        "                else :\n",
        "                # sino es digito imprimimos por pantalla un mensaje de error\n",
        "                # y volvemos al bucle a pedir la nota\n",
        "                  print(\"Por favor, ingrese un número 0 y 10.\")\n",
        "\n",
        "            else:\n",
        "                # sino es digito imprimimos por pantalla un mensaje de error\n",
        "                # y volvemos al bucle a pedir la nota\n",
        "                print(\"Por favor, ingrese un número válido para la nota.\")\n",
        "\n",
        "# una vez hemos salido del bucle porque ha introducido la palabra 'fin'\n",
        "# imprimimosç el registro de notas\n",
        "print(\"Registro de Notas:\")\n",
        "for estudiante, nota in diccionario_notas.items():\n",
        "    print(f\"{estudiante}: {nota}\")\n"
      ]
    },
    {
      "cell_type": "code",
      "execution_count": null,
      "metadata": {
        "id": "oeIMiDckxXkm",
        "cellView": "form"
      },
      "outputs": [],
      "source": [
        "# @title Solución Día 19\n",
        "\n",
        "#21 Ejercicio de refuerzo\n",
        "# Inicializar un diccionario vacío para las notas\n",
        "notas = {}\n",
        "\n",
        "# Pedir al usuario que ingrese las notas de varios estudiantes\n",
        "while True:\n",
        "    nombre = input(\"Ingrese el nombre del estudiante (o 'fin' para salir): \")\n",
        "    if nombre.lower() == 'fin':\n",
        "        break\n",
        "    nota = float(input(\"Ingrese la nota del estudiante: \"))\n",
        "    notas[nombre] = nota\n",
        "\n",
        "# Mostrar el diccionario de notas completo\n",
        "print(\"Registro de Notas:\")\n",
        "for estudiante, nota in notas.items():\n",
        "    print(f\"{estudiante}: {nota}\")"
      ]
    },
    {
      "cell_type": "markdown",
      "metadata": {
        "id": "Gz0jpizYS9lU"
      },
      "source": [
        "# **Día 20. Ejercicio extra para aplicar conceptos (Nivel 3)**\n",
        "**Calculadora Simple**\n",
        "\n",
        "Crea una calculadora simple que realice las operaciones de suma, resta, multiplicación y división. El programa debe hacer lo siguiente:\n",
        "\n",
        "\n",
        "*   Definir cuatro funciones, una para cada operación (suma, resta, multiplicación y división).\n",
        "*  Pedir al usuario que ingrese dos números y la operación que desea realizar (+, -, *, /).\n",
        "*   Llamar a la función correspondiente para realizar la operación y mostrar el resultado.\n",
        "\n"
      ]
    },
    {
      "cell_type": "markdown",
      "metadata": {
        "id": "ENrNtDyhz3WI"
      },
      "source": [
        "**Ejercicio:**\n",
        "Ejercicio: Calculadora Simple\n",
        "\n",
        "Crea una calculadora simple que realice las operaciones de suma, resta, multiplicación y división. El programa debe hacer lo siguiente:\n",
        "\n",
        "Definir cuatro funciones, una para cada operación (suma, resta, multiplicación y división).\n",
        "Pedir al usuario que ingrese dos números y la operación que desea realizar (+, -, *, /).\n",
        "Llamar a la función correspondiente para realizar la operación y mostrar el resultado."
      ]
    },
    {
      "cell_type": "code",
      "execution_count": null,
      "metadata": {
        "id": "32Aj4_WOEGaS",
        "colab": {
          "base_uri": "https://localhost:8080/"
        },
        "outputId": "5fae31e6-faca-4403-f4a1-80e072c1c602"
      },
      "outputs": [
        {
          "output_type": "stream",
          "name": "stdout",
          "text": [
            "Calculadora para sumar, restar, multiplicar o dividir dos números:\n",
            "Ingrese el primer número: 5\n",
            "Ingrese el segundo número: 3\n",
            "Ingrese '+' para suma, '-' para resta, '*' para multiplicacion ó '/' para división : +\n",
            "El resultado de de la suma es: 8.0\n"
          ]
        }
      ],
      "source": [
        "# Escribe aquí tu código\n",
        "# definimos la función a la que se le pasan dos numeros y devuelve la suma\n",
        "def sumar(numero1,numero2):\n",
        "  suma=numero_1+numero_2\n",
        "  return suma\n",
        "# definimos la función a la que se le pasan dos números y devuelve la resta\n",
        "def restar(numero_1,numero_2):\n",
        "  resta=numero_1-numero_2\n",
        "  return resta\n",
        "# definimos la función a la que se le pasan dos numeros y devuelve la multiplicacion\n",
        "def multiplicar(numero_1,numero_2):\n",
        "  multiplicacion=numero_1*numero_2\n",
        "  return multiplicacion\n",
        "# definimos la función a la que se le pasan dos numeros y devuelve la división\n",
        "def dividir(numero_1,numero_2):\n",
        "  division=numero_1/numero_2\n",
        "  return division\n",
        "# imprimimos por pantalla el titulo del programa\n",
        "print('Calculadora para sumar, restar, multiplicar o dividir dos números:')\n",
        "# creamos un bucle para que pida el primer número hasta que se ingrese uno correcto\n",
        "while True:\n",
        "  # almacenamos el primer número que pedimos en una variable\n",
        "  numero_1=input(\"Ingrese el primer número: \")\n",
        "  # si el texto introducido esun número lo almacenamos y salimos del bucle,\n",
        "  # sino lo volverá a pedir\n",
        "  if numero_1.isdigit():\n",
        "    numero_1=float(numero_1)\n",
        "    break\n",
        "# creamos un bucle para que pida el segundo número hasta que se ingrese uno correcto\n",
        "while True:\n",
        "    # almacenamos el segundo número que pedimos en otra variable\n",
        "  numero_2=input(\"Ingrese el segundo número: \")\n",
        "  # si el texto que introducimos es un número lo almacenamos y salimos del bucle,\n",
        "  # sino lo volverá a pedir\n",
        "  if numero_2.isdigit():\n",
        "    numero_2=float(numero_2)\n",
        "    break\n",
        "# creamos un bucle para que pida el operador hasta que se ingrese uno correcto\n",
        "# cuando el operador es correcto llama a la función correspondiente y almacena lo\n",
        "# que devuelve en una variable\n",
        "while True:\n",
        "  # pedimos que ingrese el operador y lo almacenamos en otra variable\n",
        "  operador=input(\"Ingrese '+' para suma, '-' para resta, '*' para multiplicacion ó '/' para división : \")\n",
        "  # si el operador es el simbolo de sumar, llama a la operación suma pasándole\n",
        "  # los dos números, el resultado lo imprimimos por pantalla y rompemos el bucle\n",
        "  if operador == '+':\n",
        "    resultado=(sumar(numero_1,numero_2))\n",
        "    print(f'El resultado de de la suma es: {resultado}')\n",
        "    break\n",
        "  # sino si el operador es el simbolo de restar, llama a la operación resta\n",
        "  # pasándole los dos números, el resultado lo imprimimos por pantalla y\n",
        "  # rompemos el bucle\n",
        "  elif operador == '-':\n",
        "    resultado=(restar(numero_1,numero_2))\n",
        "    print(f'El resultado de de la resta es: {resultado}')\n",
        "    break\n",
        "  # sino si el operador es el simbolo de multiplicar, llama a la operación\n",
        "  # multiplicacion pasándole los dos números, el resultado lo imprimimos\n",
        "  # por pantalla y rompemos el bucle\n",
        "  elif operador == '*':\n",
        "    resultado=(multiplicar(numero_1,numero_2))\n",
        "  # sino si el operador es el simbolo de restar, llama a la operación resta pasándole\n",
        "  # los dos números y el resultado lo guarda en una variable y rompemos el bucle o_2))\n",
        "    print(f'El resultado de de la multiplicacion es: {resultado}')\n",
        "    breakuna\n",
        "  # sino si el operador es el simbolo de dividir, llama a la operación división\n",
        "  # pasándole  los dos números, el resultado lo imprimimos por pantalla y\n",
        "  # rompemos el bucle\n",
        "  elif operador == '/':\n",
        "    # para evitar la división por 0 utilizamos try para hacer la división, en\n",
        "    # caso de que no falle guarda lo que devuelve la función división en una\n",
        "    # variable y rompemos el bucle\n",
        "    try :\n",
        "      resultado=(dividir(numero_1,numero_2))\n",
        "      print(f'El resultado de de la division es: {resultado}')\n",
        "      break\n",
        "    # si da el error de división por 0 mostramos un mensaje de error y\n",
        "    # rompemos el bucle\n",
        "    except ZeroDivisionError:\n",
        "      print('No se puede dividir por 0')\n",
        "      break\n",
        "else :\n",
        "    # sino introducimos una operación válida muestra un mensaje de aviso y\n",
        "    # volveriamos al bucle a pedir otra vez el operador\n",
        "    print('Introduzca una operación valida')\n",
        "\n"
      ]
    },
    {
      "cell_type": "code",
      "source": [],
      "metadata": {
        "id": "5c9yTpIBFEqQ"
      },
      "execution_count": null,
      "outputs": []
    },
    {
      "cell_type": "code",
      "execution_count": null,
      "metadata": {
        "id": "_JRcJ06axfxV",
        "cellView": "form"
      },
      "outputs": [],
      "source": [
        "# @title Solución Día 20\n",
        "\n",
        "\n",
        "# Ejercicio: Calculadora Simple\n",
        "\n",
        "# Crea una calculadora simple que realice las operaciones de suma, resta, multiplicación y división. El programa debe hacer lo siguiente:\n",
        "\n",
        "# Definir cuatro funciones, una para cada operación (suma, resta, multiplicación y división).\n",
        "# Pedir al usuario que ingrese dos números y la operación que desea realizar (+, -, *, /).\n",
        "# Llamar a la función correspondiente para realizar la operación y mostrar el resultado.\n",
        "# Definir funciones para las operaciones\n",
        "def suma(a, b):\n",
        "    return a + b\n",
        "\n",
        "def resta(a, b):\n",
        "    return a - b\n",
        "\n",
        "def multiplicacion(a, b):\n",
        "    return a * b\n",
        "\n",
        "def division(a, b):\n",
        "    if b == 0:\n",
        "        return \"Error: No se puede dividir por cero.\"\n",
        "    return a / b\n",
        "\n",
        "# Pedir al usuario que ingrese dos números y la operación\n",
        "num1 = float(input(\"Ingrese el primer número: \"))\n",
        "num2 = float(input(\"Ingrese el segundo número: \"))\n",
        "operacion = input(\"Ingrese la operación que desea realizar (+, -, *, /): \")\n",
        "\n",
        "# Realizar la operación correspondiente\n",
        "if operacion == '+':\n",
        "    resultado = suma(num1, num2)\n",
        "elif operacion == '-':\n",
        "    resultado = resta(num1, num2)\n",
        "elif operacion == '*':\n",
        "    resultado = multiplicacion(num1, num2)\n",
        "elif operacion == '/':\n",
        "    resultado = division(num1, num2)\n",
        "else:\n",
        "    resultado = \"Operación no válida. Por favor, ingrese +, -, *, o /.\"\n",
        "\n",
        "# Mostrar el resultado\n",
        "print(f\"Resultado de la operación: {resultado}\")\n",
        "\n"
      ]
    },
    {
      "cell_type": "markdown",
      "metadata": {
        "id": "2sfuI69hxnwS"
      },
      "source": [
        "## **Ver sesión 4 Minibootcamp Python**\n",
        "\n",
        "En esta sesión aprenderás:\n",
        "- Programación funcional\n",
        "\n",
        "  - Map\n",
        "\n",
        "  - Filter\n",
        "\n",
        "  - Lambda\n",
        "\n",
        "- Programación Orientada a objetos\n",
        "\n",
        "  - Clases\n",
        "\n",
        "  - Objetos\n",
        "\n",
        "  - Métodos\n",
        "\n",
        "  - Atributos\n",
        "\n",
        "Puedes acceder a la sesión aquí:\n",
        "\n",
        "[Sesión 4 Minibootcamp Python](https://nodd3r.com/masters/masterclass/courses/minibootcamp-python/theory/sesion-4-python-pro-teoria-practica)"
      ]
    },
    {
      "cell_type": "markdown",
      "metadata": {
        "id": "N3aX1p8C0kCC"
      },
      "source": [
        "# **Día 21.Programación Orientada a Objetos (Nivel 4)**\n",
        "\n",
        "En el mundo real, mientras trabajamos en proyectos de la vida real, los problemas que intentamos resolver con la programación son complejos e implican mucha lluvia de ideas incluso antes de escribir una sola línea de código.\n",
        "\n",
        "Los buenos programadores no sólo piensan en cómo resolver el problema con código, sino también en cómo escribir código que sea más fácil de mantener, más fácil de ampliar cuando sea necesario y también más fácil de leer y escribir.\n",
        "\n",
        "Esta forma de **estructurar y organizar el código** se conoce como paradigma de programación.\n",
        "\n",
        "Es como un patrón con una **serie de reglas predefinidas** que los desarrolladores pueden seguir para evitar el caos.\n",
        "\n",
        "Imagina que cada desarrollador intentara ser astuto y escribiera el código a su manera.\n",
        "\n",
        "Sin un patrón definido, ¡el proyecto estaría condenado!\n",
        "\n",
        "Volvamos a Python.\n",
        "\n",
        "**En Python, todo es un objeto.**\n",
        "\n",
        "Los tipos de datos que exploramos son todos **objetos** que tienen sus propios **atributos** asociados y **métodos** para realizar alguna acción.\n",
        "\n",
        "Estos objetos vienen de sus **clases** como una **instancia**.\n",
        "\n",
        "Esto significa que todos los tipos de datos en Python tienen una estructura definida o prototipo donde todos los detalles de sus propiedades y funcionalidades han sido definidos.\n",
        "\n",
        "Al igual que las clases incorporadas, se pueden **crear clases personalizadas para representar cosas del mundo real** como coches, máquinas, seres humanos, animales o cualquier otra cosa.\n",
        "\n",
        "Esta representación de entidades del mundo real y sus propiedades y comportamientos en clases de código se puede considerar como una definición libre del paradigma de **programación orientada a objetos**.\n",
        "\n",
        "Cada clase puede utilizarse para crear instancias de un objeto.\n",
        "\n",
        "Estos objetos pueden combinarse con otros para simular funcionalidades del mundo real.\n",
        "\n",
        "Pero para ver POO en acción en Python habrá que sumergirse a fondo y escribir algo de código.\n",
        "\n",
        "- Link POO: https://nodd3r.com/masters/master-data-science/courses/programacion-python/theory/que-es-la-programacion-orientada-a-objetos\n",
        "\n",
        "- https://nodd3r.com/masters/master-data-science/courses/programacion-python/theory/que-es-la-herencia\n",
        "\n",
        "- https://nodd3r.com/masters/master-data-science/courses/programacion-python/theory/para-que-sirve-la-encapsulacion\n",
        "\n",
        "- https://nodd3r.com/masters/master-data-science/courses/programacion-python/theory/que-es-el-polimorfismo"
      ]
    },
    {
      "cell_type": "code",
      "execution_count": 4,
      "metadata": {
        "id": "LXeDEHU03BJ7",
        "colab": {
          "base_uri": "https://localhost:8080/"
        },
        "outputId": "84936ef5-f090-479d-93db-fa0208c546ec"
      },
      "outputs": [
        {
          "output_type": "stream",
          "name": "stdout",
          "text": [
            "<class 'type'>\n",
            "<class '__main__.Avenger'>\n"
          ]
        }
      ],
      "source": [
        "# se define la clase Avenger con class\n",
        "class Avenger:\n",
        "  # se inicializa la clase con la función __init__\n",
        "  def __init__(self, name):\n",
        "    # self para que name pertenezca a la clase\n",
        "    # self.name es un atributo de Avenger\n",
        "    self.name = name\n",
        "\n",
        "  # la función fight es un método de Avenger\n",
        "  def fight(self):\n",
        "    print('👊')\n",
        "\n",
        "# creamos un nuevo objeto Avenger que se llame Spiderman\n",
        "spiderman = Avenger('Spiderman')\n",
        "\n",
        "# printamos\n",
        "print(type(Avenger)) # <class 'type'>\n",
        "print(type(spiderman)) # <class '__main__.Avenger'>"
      ]
    },
    {
      "cell_type": "markdown",
      "metadata": {
        "id": "eBEUUkYT3lAK"
      },
      "source": [
        "El **__ init __** es un método de inicialización (también llamado método constructor).\n",
        "\n",
        "Se utiliza para inicializar las variables de la clase. En la clase anterior, se está inicializando name.\n",
        "\n",
        "**self** es una palabra clave en Python que es una referencia a la instancia de la clase.\n",
        "Se utiliza para acceder a las variables o atributos de la clase.\n",
        "\n",
        "En la clase Avenger, **fight** es un método que es una representación hipotética de lo que hará un Avenger cuando se le pida que luche.\n",
        "Aquí sólo imprime un emoji, pero puede ser cualquier acción.\n",
        "\n",
        "Usando esta clase Avenger como prototipo, he creado un **objeto Spiderman**.\n",
        "\n",
        "Similarmente, esta clase puede ser usada para crear otros Avengers pero parece que todos harían lo mismo al pedirles que peleen lo cual no es cool."
      ]
    },
    {
      "cell_type": "markdown",
      "metadata": {
        "id": "T8fVtvYS3dRI"
      },
      "source": [
        "**Ejercicio**:\n",
        "La tarea consiste en crear una clase SoccerPlayer con atributos de nombre y goles. Además, debe tener un método que sea **gol** que sume 1 a los goles que tiene.\n",
        "\n",
        "Luego crear 3 objetos de 3 jugadores y usando una función sacar los jugadores ordenados por goles."
      ]
    },
    {
      "cell_type": "code",
      "execution_count": 11,
      "metadata": {
        "id": "jaSoxbUb4M4t",
        "colab": {
          "base_uri": "https://localhost:8080/"
        },
        "outputId": "d4ae61f7-6019-436c-aba3-42e72e6fdb3b"
      },
      "outputs": [
        {
          "output_type": "stream",
          "name": "stdout",
          "text": [
            "Lista ordenada por goles de los máximos anotadores de la Selección Española de Fútbol\n",
            "Villa lleva 58 goles con la Selección\n",
            "Raul lleva 44 goles con la Selección\n",
            "Torres lleva 38 goles con la Selección\n",
            "Morata lleva 36 goles con la Selección\n"
          ]
        }
      ],
      "source": [
        "# Escribe aquí tu código\n",
        "# declaramos la clase jugador con sus atributos nombre y goles\n",
        "class Scoccer_player:\n",
        "  def __init__(self,nombre,goles=0):\n",
        "    self.nombre=nombre\n",
        "    self.goles=goles\n",
        "# declaramos el método gol de la clase Soccer_Player que suma uno al atributo goles\n",
        "  def gol(self):\n",
        "    self.goles+=1\n",
        "# función para ordenar una lista de jugadores por el número de goles\n",
        "def ordenar_por_goles (lista):\n",
        "  for jugador in lista :\n",
        "    return sorted(lista, key=lambda jugador: jugador.goles, reverse=True)\n",
        "# creamos cuatro jugadores con sus atributos con la clase declarada\n",
        "morata=Scoccer_player(\"Morata\",35)\n",
        "villa=Scoccer_player(\"Villa\",58)\n",
        "raul=Scoccer_player(\"Raul\",44)\n",
        "torres=Scoccer_player(\"Torres\",38)\n",
        "# llamamos al metodo para sumar un gol al jugador morata\n",
        "morata.gol()\n",
        "# creamos una lista con los jugadores\n",
        "lista_de_jugadores=(morata,villa,raul,torres)\n",
        "# ordenamos la lista con la función ordenar_por_goles\n",
        "lista_ordenada=ordenar_por_goles(lista_de_jugadores)\n",
        "# imprimimos por pantalla todos los jugadores de la lista buscando sus atributos\n",
        "# en el objeto de cada uno\n",
        "print(\"Lista ordenada por goles de los máximos anotadores de la Selección Española de Fútbol\")\n",
        "for jugador in lista_ordenada :\n",
        "  print(f\"{jugador.nombre} lleva {jugador.goles} goles con la Selección\")\n",
        "\n"
      ]
    },
    {
      "cell_type": "code",
      "execution_count": null,
      "metadata": {
        "id": "sQ28sw9FyEaa",
        "cellView": "form"
      },
      "outputs": [],
      "source": [
        "# @title Solución Día 21\n",
        "\n",
        "class SoccerPlayer:\n",
        "    def __init__(self, nombre, goles=0):\n",
        "        self.nombre = nombre\n",
        "        self.goles = goles\n",
        "\n",
        "    def gol(self):\n",
        "        self.goles += 1\n",
        "\n",
        "# Función para ordenar jugadores por goles\n",
        "def ordenar_por_goles(jugadores):\n",
        "    return sorted(jugadores, key=lambda jugador: jugador.goles, reverse=True)\n",
        "\n",
        "# Crear objetos de jugadores\n",
        "messi = SoccerPlayer(\"Messi\", 25)\n",
        "ronaldo = SoccerPlayer(\"Ronaldo\", 30)\n",
        "neymar = SoccerPlayer(\"Neymar\", 20)\n",
        "\n",
        "# Realizar algunos goles\n",
        "messi.gol()\n",
        "messi.gol()\n",
        "ronaldo.gol()\n",
        "neymar.gol()\n",
        "neymar.gol()\n",
        "\n",
        "# Lista de jugadores\n",
        "lista_jugadores = [messi, ronaldo, neymar]\n",
        "\n",
        "# Ordenar jugadores por goles\n",
        "jugadores_ordenados = ordenar_por_goles(lista_jugadores)\n",
        "\n",
        "# Imprimir jugadores ordenados por goles\n",
        "print(\"Jugadores ordenados por goles:\")\n",
        "for jugador in jugadores_ordenados:\n",
        "    print(f\"{jugador.nombre}: {jugador.goles} goles\")"
      ]
    },
    {
      "cell_type": "markdown",
      "metadata": {
        "id": "ypuSGBG8zJK7"
      },
      "source": [
        "## **Para terminar**\n",
        "\n",
        "Entrega tu Google Colab con tus soluciones rellenando este Google Sheets:\n",
        "\n",
        "[Accede al Google Sheets aquí](https://docs.google.com/spreadsheets/d/1r8NTODDVOCPEumk7B1HjvRRwBc4KNqm1X8qA4_OOHA4/edit?usp=sharing)\n",
        "\n",
        "\n",
        "Y avísanos por Discord 😁"
      ]
    },
    {
      "cell_type": "markdown",
      "metadata": {
        "id": "SgQL3uq2zL6-"
      },
      "source": [
        "# **Siguientes pasos**\n",
        "\n",
        "1. Puedes terminar el Minibootcamp viendo un proyecto real de Python explicado:\n",
        "\n",
        "[Sesión 5 Minibootcamp Python](https://nodd3r.com/masters/masterclass/courses/minibootcamp-python/theory/sesion-5-proyecto-final-python)\n",
        "\n",
        "2. Una vez hayas completado esto, vuelve al módulo de Python para terminarlo 💪\n",
        "\n",
        "https://nodd3r.com/masters/master-data-science/courses/programacion-python"
      ]
    }
  ],
  "metadata": {
    "colab": {
      "provenance": [],
      "gpuType": "T4",
      "include_colab_link": true
    },
    "kernelspec": {
      "display_name": "Python 3",
      "name": "python3"
    },
    "language_info": {
      "name": "python"
    }
  },
  "nbformat": 4,
  "nbformat_minor": 0
}